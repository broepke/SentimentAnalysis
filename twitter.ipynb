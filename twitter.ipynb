{
 "cells": [
  {
   "cell_type": "code",
   "execution_count": 12,
   "metadata": {},
   "outputs": [],
   "source": [
    "import tweepy\n",
    "import os\n",
    "import pandas as pd"
   ]
  },
  {
   "cell_type": "code",
   "execution_count": 2,
   "metadata": {},
   "outputs": [],
   "source": [
    "TWITTER_API_KEY = os.environ.get('TWITTER_API_KEY')\n",
    "TWITTER_API_SECRET = os.environ.get('TWITTER_API_SECRET')\n",
    "TWITTER_TOKEN = os.environ.get('TWITTER_TOKEN')\n",
    "TWITTER_TOKEN_SECRET = os.environ.get('TWITTER_TOKEN_SECRET')"
   ]
  },
  {
   "cell_type": "code",
   "execution_count": 4,
   "metadata": {},
   "outputs": [],
   "source": [
    "auth = tweepy.OAuthHandler(TWITTER_API_KEY, TWITTER_API_SECRET)\n",
    "auth.set_access_token(TWITTER_TOKEN, TWITTER_TOKEN_SECRET)\n",
    "\n",
    "api = tweepy.API(auth)"
   ]
  },
  {
   "cell_type": "code",
   "execution_count": 31,
   "metadata": {},
   "outputs": [
    {
     "data": {
      "text/plain": [
       "0     RT @CNN: Elon Musk is due to end 2021 with one...\n",
       "1     RT @TheDragonFeeder: “China is worried America...\n",
       "2     RT @dogeofficialceo: Elon Musk on #Dogecoin vs...\n",
       "3     RT @DanCollins2011: The entire USD money datab...\n",
       "4     RT @CNN: Elon Musk is due to end 2021 with one...\n",
       "                            ...                        \n",
       "95    RT @BillyPrempeh: Elon Musk said, \\n\\n“At its ...\n",
       "96    RT @JohnPompliano: Elon Musk had a massive yea...\n",
       "97    RT @CyberIQs_: Elon Musk says SpaceX will land...\n",
       "98    Elon Musk owes a massive $11 billion in taxes ...\n",
       "99    RT @ConflitsFrance: 👩‍🚀 | Elon #Musk prévoit d...\n",
       "Name: text, Length: 100, dtype: object"
      ]
     },
     "execution_count": 31,
     "metadata": {},
     "output_type": "execute_result"
    }
   ],
   "source": [
    "results = api.search_tweets(q='Elon Musk', count=100)\n",
    "json_data = [r._json for r in results]\n",
    "\n",
    "df = pd.json_normalize(json_data)\n",
    "df.to_pickle('elon.pkl')\n",
    "df.text"
   ]
  },
  {
   "cell_type": "code",
   "execution_count": 30,
   "metadata": {},
   "outputs": [
    {
     "data": {
      "text/plain": [
       "0     RT @C2thaL2thaIGG: “Covid is real, yall” - a p...\n",
       "1     RT @florent_chenu: Les soignants lâchent la vé...\n",
       "2     RT @cyrusshahpar46: Wednesday just in: +1.30M ...\n",
       "3     RT @realTuckFrumper: Self Proclaimed ‘Plague S...\n",
       "4     RT @NgiraanFall: Le Covid quasi double platine...\n",
       "                            ...                        \n",
       "95    RT @MrsJMDK: My sister had an appointment toda...\n",
       "96    RT @Ezequiel1901: Negativo en covid, positivo ...\n",
       "97    RT @pukumanchu: I'm really sad it's come to th...\n",
       "98    RT @TomOHanlon17: Hang on is this the same @rt...\n",
       "99    RT @eco_nie: Twarde fakty są takie.\\nRok 2020:...\n",
       "Name: text, Length: 100, dtype: object"
      ]
     },
     "execution_count": 30,
     "metadata": {},
     "output_type": "execute_result"
    }
   ],
   "source": [
    "results = api.search_tweets(q='COVID', count=100)\n",
    "json_data = [r._json for r in results]\n",
    "\n",
    "df = pd.json_normalize(json_data)\n",
    "df.to_pickle('covid.pkl')\n",
    "df.text"
   ]
  },
  {
   "cell_type": "code",
   "execution_count": null,
   "metadata": {},
   "outputs": [],
   "source": []
  },
  {
   "cell_type": "code",
   "execution_count": null,
   "metadata": {},
   "outputs": [],
   "source": []
  }
 ],
 "metadata": {
  "interpreter": {
   "hash": "5629da87f0f0738fb6d7f5b56890b7158ed7c3cd6e2056d12c1193abac81cb87"
  },
  "kernelspec": {
   "display_name": "Python 3.9.7 64-bit ('NLP': conda)",
   "language": "python",
   "name": "python3"
  },
  "language_info": {
   "codemirror_mode": {
    "name": "ipython",
    "version": 3
   },
   "file_extension": ".py",
   "mimetype": "text/x-python",
   "name": "python",
   "nbconvert_exporter": "python",
   "pygments_lexer": "ipython3",
   "version": "3.9.7"
  },
  "orig_nbformat": 4
 },
 "nbformat": 4,
 "nbformat_minor": 2
}
