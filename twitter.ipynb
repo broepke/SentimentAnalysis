{
 "cells": [
  {
   "cell_type": "code",
   "execution_count": 1,
   "metadata": {},
   "outputs": [],
   "source": [
    "import tweepy\n",
    "import os\n",
    "import pandas as pd\n",
    "import csv"
   ]
  },
  {
   "cell_type": "code",
   "execution_count": 2,
   "metadata": {},
   "outputs": [],
   "source": [
    "TWITTER_API_KEY = os.environ.get('TWITTER_API_KEY')\n",
    "TWITTER_API_SECRET = os.environ.get('TWITTER_API_SECRET')\n",
    "TWITTER_TOKEN = os.environ.get('TWITTER_TOKEN')\n",
    "TWITTER_TOKEN_SECRET = os.environ.get('TWITTER_TOKEN_SECRET')"
   ]
  },
  {
   "cell_type": "code",
   "execution_count": 3,
   "metadata": {},
   "outputs": [],
   "source": [
    "auth = tweepy.OAuthHandler(TWITTER_API_KEY, TWITTER_API_SECRET)\n",
    "auth.set_access_token(TWITTER_TOKEN, TWITTER_TOKEN_SECRET)\n",
    "\n",
    "api = tweepy.API(auth)"
   ]
  },
  {
   "cell_type": "code",
   "execution_count": 4,
   "metadata": {},
   "outputs": [],
   "source": [
    "id_max = 0\n",
    "\n",
    "for i in range(1,21):\n",
    "    if id_max == 0:\n",
    "        results = api.search_tweets(q='Ghislaine Maxwell', count=100)\n",
    "        json_data = [r._json for r in results]\n",
    "        df_maxwell = pd.json_normalize(json_data)\n",
    "        id_max = min(df_maxwell['id'])\n",
    "    else:\n",
    "        results = api.search_tweets(q='Ghislaine Maxwell', count=100, max_id = id_max)\n",
    "        json_data = [r._json for r in results]\n",
    "        df_temp = pd.json_normalize(json_data)\n",
    "        df_maxwell = pd.concat([df_maxwell, df_temp], ignore_index=True)\n",
    "        id_max = min(df_maxwell['id'])\n",
    "\n",
    "df_maxwell.to_pickle('maxwell.pkl')       "
   ]
  },
  {
   "cell_type": "code",
   "execution_count": 5,
   "metadata": {},
   "outputs": [],
   "source": [
    "id_max = 0\n",
    "\n",
    "for i in range(1,21):\n",
    "    if id_max == 0:\n",
    "        results = api.search_tweets(q='Taylor Swift', count=100)\n",
    "        json_data = [r._json for r in results]\n",
    "        df_swift = pd.json_normalize(json_data)\n",
    "        id_max = min(df_swift['id'])\n",
    "    else:\n",
    "        results = api.search_tweets(q='Taylor Swift', count=100, max_id = id_max)\n",
    "        json_data = [r._json for r in results]\n",
    "        df_temp = pd.json_normalize(json_data)\n",
    "        df_swift = pd.concat([df_swift, df_temp], ignore_index=True)\n",
    "        id_max = min(df_swift['id'])\n",
    "\n",
    "df_swift.to_pickle('swift.pkl')\n",
    "        "
   ]
  }
 ],
 "metadata": {
  "interpreter": {
   "hash": "5629da87f0f0738fb6d7f5b56890b7158ed7c3cd6e2056d12c1193abac81cb87"
  },
  "kernelspec": {
   "display_name": "Python 3.9.7 64-bit ('NLP': conda)",
   "language": "python",
   "name": "python3"
  },
  "language_info": {
   "codemirror_mode": {
    "name": "ipython",
    "version": 3
   },
   "file_extension": ".py",
   "mimetype": "text/x-python",
   "name": "python",
   "nbconvert_exporter": "python",
   "pygments_lexer": "ipython3",
   "version": "3.9.7"
  },
  "orig_nbformat": 4
 },
 "nbformat": 4,
 "nbformat_minor": 2
}
