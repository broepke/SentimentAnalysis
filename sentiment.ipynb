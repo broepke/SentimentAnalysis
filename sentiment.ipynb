{
 "cells": [
  {
   "cell_type": "code",
   "execution_count": 2,
   "metadata": {},
   "outputs": [],
   "source": [
    "import pandas as pd\n",
    "from textblob import TextBlob\n",
    "from nltk.sentiment.vader import SentimentIntensityAnalyzer\n",
    "\n",
    "import seaborn as sns\n",
    "import matplotlib.pyplot as plt\n",
    "%matplotlib inline"
   ]
  },
  {
   "cell_type": "code",
   "execution_count": 3,
   "metadata": {},
   "outputs": [],
   "source": [
    "swift = pd.read_pickle('swift.pkl')\n",
    "maxwell = pd.read_pickle('maxwell.pkl')"
   ]
  },
  {
   "cell_type": "code",
   "execution_count": 4,
   "metadata": {},
   "outputs": [],
   "source": [
    "swift = swift[['text']].copy()\n",
    "maxwell = maxwell[['text']].copy()"
   ]
  },
  {
   "cell_type": "markdown",
   "metadata": {},
   "source": [
    "## Sentiment Analysis with TextBlob"
   ]
  },
  {
   "cell_type": "code",
   "execution_count": 5,
   "metadata": {},
   "outputs": [],
   "source": [
    "def get_sentiment(x):\n",
    "    '''using TextBlob, get the sentiment score for a given body of text'''\n",
    "    blob = TextBlob(x)\n",
    "    return blob.sentiment.polarity"
   ]
  },
  {
   "cell_type": "code",
   "execution_count": 6,
   "metadata": {},
   "outputs": [
    {
     "data": {
      "text/html": [
       "<div>\n",
       "<style scoped>\n",
       "    .dataframe tbody tr th:only-of-type {\n",
       "        vertical-align: middle;\n",
       "    }\n",
       "\n",
       "    .dataframe tbody tr th {\n",
       "        vertical-align: top;\n",
       "    }\n",
       "\n",
       "    .dataframe thead th {\n",
       "        text-align: right;\n",
       "    }\n",
       "</style>\n",
       "<table border=\"1\" class=\"dataframe\">\n",
       "  <thead>\n",
       "    <tr style=\"text-align: right;\">\n",
       "      <th></th>\n",
       "      <th>text</th>\n",
       "      <th>blob</th>\n",
       "    </tr>\n",
       "  </thead>\n",
       "  <tbody>\n",
       "    <tr>\n",
       "      <th>0</th>\n",
       "      <td>RT @TSwiftFTC: 🥇 According to @HITSDD, Taylor ...</td>\n",
       "      <td>1.000000</td>\n",
       "    </tr>\n",
       "    <tr>\n",
       "      <th>1</th>\n",
       "      <td>RT @taylorr_media: Taylor Swift - All Too Well...</td>\n",
       "      <td>0.000000</td>\n",
       "    </tr>\n",
       "    <tr>\n",
       "      <th>2</th>\n",
       "      <td>Taylor swift and ed sheeran music mainly. And ...</td>\n",
       "      <td>0.166667</td>\n",
       "    </tr>\n",
       "    <tr>\n",
       "      <th>3</th>\n",
       "      <td>RT @soitfuckingoes: taylor swift didn't write:...</td>\n",
       "      <td>0.200000</td>\n",
       "    </tr>\n",
       "    <tr>\n",
       "      <th>4</th>\n",
       "      <td>Suporte list: Nial Horan, Demi Lovato, Taylor ...</td>\n",
       "      <td>0.000000</td>\n",
       "    </tr>\n",
       "  </tbody>\n",
       "</table>\n",
       "</div>"
      ],
      "text/plain": [
       "                                                text      blob\n",
       "0  RT @TSwiftFTC: 🥇 According to @HITSDD, Taylor ...  1.000000\n",
       "1  RT @taylorr_media: Taylor Swift - All Too Well...  0.000000\n",
       "2  Taylor swift and ed sheeran music mainly. And ...  0.166667\n",
       "3  RT @soitfuckingoes: taylor swift didn't write:...  0.200000\n",
       "4  Suporte list: Nial Horan, Demi Lovato, Taylor ...  0.000000"
      ]
     },
     "execution_count": 6,
     "metadata": {},
     "output_type": "execute_result"
    }
   ],
   "source": [
    "# Apply the Polarity Scoring from TextBlob\n",
    "swift['blob'] = swift['text'].apply(lambda x: get_sentiment(x))\n",
    "swift.head()"
   ]
  },
  {
   "cell_type": "code",
   "execution_count": 7,
   "metadata": {},
   "outputs": [
    {
     "data": {
      "text/html": [
       "<div>\n",
       "<style scoped>\n",
       "    .dataframe tbody tr th:only-of-type {\n",
       "        vertical-align: middle;\n",
       "    }\n",
       "\n",
       "    .dataframe tbody tr th {\n",
       "        vertical-align: top;\n",
       "    }\n",
       "\n",
       "    .dataframe thead th {\n",
       "        text-align: right;\n",
       "    }\n",
       "</style>\n",
       "<table border=\"1\" class=\"dataframe\">\n",
       "  <thead>\n",
       "    <tr style=\"text-align: right;\">\n",
       "      <th></th>\n",
       "      <th>text</th>\n",
       "      <th>blob</th>\n",
       "    </tr>\n",
       "  </thead>\n",
       "  <tbody>\n",
       "    <tr>\n",
       "      <th>0</th>\n",
       "      <td>RT @TSwiftFTC: 🥇 According to @HITSDD, Taylor ...</td>\n",
       "      <td>1.000000</td>\n",
       "    </tr>\n",
       "    <tr>\n",
       "      <th>1</th>\n",
       "      <td>RT @taylorr_media: Taylor Swift - All Too Well...</td>\n",
       "      <td>0.000000</td>\n",
       "    </tr>\n",
       "    <tr>\n",
       "      <th>2</th>\n",
       "      <td>Taylor swift and ed sheeran music mainly. And ...</td>\n",
       "      <td>0.166667</td>\n",
       "    </tr>\n",
       "    <tr>\n",
       "      <th>3</th>\n",
       "      <td>RT @soitfuckingoes: taylor swift didn't write:...</td>\n",
       "      <td>0.200000</td>\n",
       "    </tr>\n",
       "    <tr>\n",
       "      <th>4</th>\n",
       "      <td>Suporte list: Nial Horan, Demi Lovato, Taylor ...</td>\n",
       "      <td>0.000000</td>\n",
       "    </tr>\n",
       "  </tbody>\n",
       "</table>\n",
       "</div>"
      ],
      "text/plain": [
       "                                                text      blob\n",
       "0  RT @TSwiftFTC: 🥇 According to @HITSDD, Taylor ...  1.000000\n",
       "1  RT @taylorr_media: Taylor Swift - All Too Well...  0.000000\n",
       "2  Taylor swift and ed sheeran music mainly. And ...  0.166667\n",
       "3  RT @soitfuckingoes: taylor swift didn't write:...  0.200000\n",
       "4  Suporte list: Nial Horan, Demi Lovato, Taylor ...  0.000000"
      ]
     },
     "execution_count": 7,
     "metadata": {},
     "output_type": "execute_result"
    }
   ],
   "source": [
    "# Apply the Polarity Scoring from TextBlob\n",
    "maxwell['blob'] = maxwell['text'].apply(lambda x: get_sentiment(x))\n",
    "swift.head()"
   ]
  },
  {
   "cell_type": "markdown",
   "metadata": {},
   "source": [
    "## Sentiment Analysis with Vader"
   ]
  },
  {
   "cell_type": "code",
   "execution_count": 8,
   "metadata": {},
   "outputs": [],
   "source": [
    "sid = SentimentIntensityAnalyzer()"
   ]
  },
  {
   "cell_type": "code",
   "execution_count": 9,
   "metadata": {},
   "outputs": [
    {
     "data": {
      "text/html": [
       "<div>\n",
       "<style scoped>\n",
       "    .dataframe tbody tr th:only-of-type {\n",
       "        vertical-align: middle;\n",
       "    }\n",
       "\n",
       "    .dataframe tbody tr th {\n",
       "        vertical-align: top;\n",
       "    }\n",
       "\n",
       "    .dataframe thead th {\n",
       "        text-align: right;\n",
       "    }\n",
       "</style>\n",
       "<table border=\"1\" class=\"dataframe\">\n",
       "  <thead>\n",
       "    <tr style=\"text-align: right;\">\n",
       "      <th></th>\n",
       "      <th>text</th>\n",
       "      <th>blob</th>\n",
       "      <th>vader</th>\n",
       "      <th>compound</th>\n",
       "    </tr>\n",
       "  </thead>\n",
       "  <tbody>\n",
       "    <tr>\n",
       "      <th>0</th>\n",
       "      <td>RT @TSwiftFTC: 🥇 According to @HITSDD, Taylor ...</td>\n",
       "      <td>1.000000</td>\n",
       "      <td>{'neg': 0.0, 'neu': 0.793, 'pos': 0.207, 'comp...</td>\n",
       "      <td>0.7184</td>\n",
       "    </tr>\n",
       "    <tr>\n",
       "      <th>1</th>\n",
       "      <td>RT @taylorr_media: Taylor Swift - All Too Well...</td>\n",
       "      <td>0.000000</td>\n",
       "      <td>{'neg': 0.0, 'neu': 0.782, 'pos': 0.218, 'comp...</td>\n",
       "      <td>0.4404</td>\n",
       "    </tr>\n",
       "    <tr>\n",
       "      <th>2</th>\n",
       "      <td>Taylor swift and ed sheeran music mainly. And ...</td>\n",
       "      <td>0.166667</td>\n",
       "      <td>{'neg': 0.0, 'neu': 0.87, 'pos': 0.13, 'compou...</td>\n",
       "      <td>0.2023</td>\n",
       "    </tr>\n",
       "    <tr>\n",
       "      <th>3</th>\n",
       "      <td>RT @soitfuckingoes: taylor swift didn't write:...</td>\n",
       "      <td>0.200000</td>\n",
       "      <td>{'neg': 0.176, 'neu': 0.719, 'pos': 0.105, 'co...</td>\n",
       "      <td>-0.1994</td>\n",
       "    </tr>\n",
       "    <tr>\n",
       "      <th>4</th>\n",
       "      <td>Suporte list: Nial Horan, Demi Lovato, Taylor ...</td>\n",
       "      <td>0.000000</td>\n",
       "      <td>{'neg': 0.0, 'neu': 0.904, 'pos': 0.096, 'comp...</td>\n",
       "      <td>0.2023</td>\n",
       "    </tr>\n",
       "  </tbody>\n",
       "</table>\n",
       "</div>"
      ],
      "text/plain": [
       "                                                text      blob  \\\n",
       "0  RT @TSwiftFTC: 🥇 According to @HITSDD, Taylor ...  1.000000   \n",
       "1  RT @taylorr_media: Taylor Swift - All Too Well...  0.000000   \n",
       "2  Taylor swift and ed sheeran music mainly. And ...  0.166667   \n",
       "3  RT @soitfuckingoes: taylor swift didn't write:...  0.200000   \n",
       "4  Suporte list: Nial Horan, Demi Lovato, Taylor ...  0.000000   \n",
       "\n",
       "                                               vader  compound  \n",
       "0  {'neg': 0.0, 'neu': 0.793, 'pos': 0.207, 'comp...    0.7184  \n",
       "1  {'neg': 0.0, 'neu': 0.782, 'pos': 0.218, 'comp...    0.4404  \n",
       "2  {'neg': 0.0, 'neu': 0.87, 'pos': 0.13, 'compou...    0.2023  \n",
       "3  {'neg': 0.176, 'neu': 0.719, 'pos': 0.105, 'co...   -0.1994  \n",
       "4  {'neg': 0.0, 'neu': 0.904, 'pos': 0.096, 'comp...    0.2023  "
      ]
     },
     "execution_count": 9,
     "metadata": {},
     "output_type": "execute_result"
    }
   ],
   "source": [
    "swift['vader'] = swift['text'].apply(lambda x: sid.polarity_scores(x))\n",
    "# Create a few extra columns to aid in the analysis\n",
    "swift['compound'] = swift['vader'].apply(lambda score_dict: score_dict['compound'])\n",
    "swift.head()"
   ]
  },
  {
   "cell_type": "code",
   "execution_count": 10,
   "metadata": {},
   "outputs": [
    {
     "data": {
      "text/plain": [
       "{'neg': 0.0, 'neu': 0.793, 'pos': 0.207, 'compound': 0.7184}"
      ]
     },
     "execution_count": 10,
     "metadata": {},
     "output_type": "execute_result"
    }
   ],
   "source": [
    "swift['vader'][0]"
   ]
  },
  {
   "cell_type": "code",
   "execution_count": 11,
   "metadata": {},
   "outputs": [],
   "source": [
    "# Get rid of neutral sentiment\n",
    "filter = (swift['compound'] != 0) & (swift['blob'] != 0)\n",
    "swift = swift[filter]"
   ]
  },
  {
   "cell_type": "code",
   "execution_count": 12,
   "metadata": {},
   "outputs": [
    {
     "data": {
      "text/html": [
       "<div>\n",
       "<style scoped>\n",
       "    .dataframe tbody tr th:only-of-type {\n",
       "        vertical-align: middle;\n",
       "    }\n",
       "\n",
       "    .dataframe tbody tr th {\n",
       "        vertical-align: top;\n",
       "    }\n",
       "\n",
       "    .dataframe thead th {\n",
       "        text-align: right;\n",
       "    }\n",
       "</style>\n",
       "<table border=\"1\" class=\"dataframe\">\n",
       "  <thead>\n",
       "    <tr style=\"text-align: right;\">\n",
       "      <th></th>\n",
       "      <th>text</th>\n",
       "      <th>blob</th>\n",
       "      <th>vader</th>\n",
       "      <th>compound</th>\n",
       "    </tr>\n",
       "  </thead>\n",
       "  <tbody>\n",
       "    <tr>\n",
       "      <th>0</th>\n",
       "      <td>RT @NewsForAIl: 🚨🚨 | BREAKING: U.S. JURY FINDS...</td>\n",
       "      <td>0.0000</td>\n",
       "      <td>{'neg': 0.32, 'neu': 0.68, 'pos': 0.0, 'compou...</td>\n",
       "      <td>-0.8579</td>\n",
       "    </tr>\n",
       "    <tr>\n",
       "      <th>1</th>\n",
       "      <td>RT @KlasfeldReports: A jury has found Ghislain...</td>\n",
       "      <td>-0.3125</td>\n",
       "      <td>{'neg': 0.371, 'neu': 0.629, 'pos': 0.0, 'comp...</td>\n",
       "      <td>-0.8807</td>\n",
       "    </tr>\n",
       "    <tr>\n",
       "      <th>2</th>\n",
       "      <td>RT @AFP: #BREAKING British socialite Ghislaine...</td>\n",
       "      <td>-0.2500</td>\n",
       "      <td>{'neg': 0.189, 'neu': 0.811, 'pos': 0.0, 'comp...</td>\n",
       "      <td>-0.4215</td>\n",
       "    </tr>\n",
       "    <tr>\n",
       "      <th>3</th>\n",
       "      <td>RT @joncoopertweets: BREAKING: GHISLAINE MAXWE...</td>\n",
       "      <td>-0.5000</td>\n",
       "      <td>{'neg': 0.367, 'neu': 0.633, 'pos': 0.0, 'comp...</td>\n",
       "      <td>-0.7481</td>\n",
       "    </tr>\n",
       "    <tr>\n",
       "      <th>4</th>\n",
       "      <td>RT @briantylercohen: BREAKING: Ghislaine Maxwe...</td>\n",
       "      <td>-0.5000</td>\n",
       "      <td>{'neg': 0.227, 'neu': 0.773, 'pos': 0.0, 'comp...</td>\n",
       "      <td>-0.5473</td>\n",
       "    </tr>\n",
       "  </tbody>\n",
       "</table>\n",
       "</div>"
      ],
      "text/plain": [
       "                                                text    blob  \\\n",
       "0  RT @NewsForAIl: 🚨🚨 | BREAKING: U.S. JURY FINDS...  0.0000   \n",
       "1  RT @KlasfeldReports: A jury has found Ghislain... -0.3125   \n",
       "2  RT @AFP: #BREAKING British socialite Ghislaine... -0.2500   \n",
       "3  RT @joncoopertweets: BREAKING: GHISLAINE MAXWE... -0.5000   \n",
       "4  RT @briantylercohen: BREAKING: Ghislaine Maxwe... -0.5000   \n",
       "\n",
       "                                               vader  compound  \n",
       "0  {'neg': 0.32, 'neu': 0.68, 'pos': 0.0, 'compou...   -0.8579  \n",
       "1  {'neg': 0.371, 'neu': 0.629, 'pos': 0.0, 'comp...   -0.8807  \n",
       "2  {'neg': 0.189, 'neu': 0.811, 'pos': 0.0, 'comp...   -0.4215  \n",
       "3  {'neg': 0.367, 'neu': 0.633, 'pos': 0.0, 'comp...   -0.7481  \n",
       "4  {'neg': 0.227, 'neu': 0.773, 'pos': 0.0, 'comp...   -0.5473  "
      ]
     },
     "execution_count": 12,
     "metadata": {},
     "output_type": "execute_result"
    }
   ],
   "source": [
    "maxwell['vader'] = maxwell['text'].apply(lambda x: sid.polarity_scores(x))\n",
    "# Create a few extra columns to aid in the analysis\n",
    "maxwell['compound'] = maxwell['vader'].apply(lambda score_dict: score_dict['compound'])\n",
    "maxwell.head()"
   ]
  },
  {
   "cell_type": "markdown",
   "metadata": {},
   "source": [
    "## Plotting Sentiment"
   ]
  },
  {
   "cell_type": "code",
   "execution_count": 13,
   "metadata": {},
   "outputs": [],
   "source": [
    "# Get rid of neutral sentiment\n",
    "filter = (maxwell['compound'] != 0) & (maxwell['blob'] != 0)\n",
    "maxwell = maxwell[filter]"
   ]
  },
  {
   "cell_type": "code",
   "execution_count": 14,
   "metadata": {},
   "outputs": [
    {
     "data": {
      "image/png": "[encoded data removed]",
      "text/plain": [
       "<Figure size 576x360 with 1 Axes>"
      ]
     },
     "metadata": {
      "needs_background": "light"
     },
     "output_type": "display_data"
    }
   ],
   "source": [
    "plt.figure(figsize=(8, 5))\n",
    "sns.histplot(swift, x='blob', color=\"#7C8C58\", bins=10)\n",
    "plt.title(\"Taylor Swift Sentiment Distribution with TextBlob\")\n",
    "plt.xlabel(\"Sentiment\")\n",
    "plt.ylabel(\"\")\n",
    "plt.tight_layout()\n",
    "plt.savefig(\"sentiment_swift_blob.png\", dpi=300)"
   ]
  },
  {
   "cell_type": "code",
   "execution_count": 15,
   "metadata": {},
   "outputs": [
    {
     "data": {
      "image/png": "[encoded data removed]",
      "text/plain": [
       "<Figure size 576x360 with 1 Axes>"
      ]
     },
     "metadata": {
      "needs_background": "light"
     },
     "output_type": "display_data"
    }
   ],
   "source": [
    "plt.figure(figsize=(8, 5))\n",
    "sns.histplot(maxwell, x='blob', color=\"#A67E4E\", bins=10)\n",
    "plt.title(\"Ghislaine Maxwell Sentiment Distribution with TextBlob\")\n",
    "plt.xlabel(\"Sentiment\")\n",
    "plt.ylabel(\"\")\n",
    "plt.tight_layout()\n",
    "plt.savefig(\"sentiment_maxwell_blob.png\", dpi=300)"
   ]
  },
  {
   "cell_type": "code",
   "execution_count": 16,
   "metadata": {},
   "outputs": [
    {
     "data": {
      "image/png": "[encoded data removed]",
      "text/plain": [
       "<Figure size 576x360 with 1 Axes>"
      ]
     },
     "metadata": {
      "needs_background": "light"
     },
     "output_type": "display_data"
    }
   ],
   "source": [
    "plt.figure(figsize=(8, 5))\n",
    "sns.histplot(swift, x='compound', color=\"#7C8C58\", bins=10)\n",
    "plt.title(\"Taylor Swift Sentiment Distribution with VADER\")\n",
    "plt.xlabel(\"Sentiment\")\n",
    "plt.ylabel(\"\")\n",
    "plt.tight_layout()\n",
    "plt.savefig(\"sentiment_swift_vader.png\", dpi=300)"
   ]
  },
  {
   "cell_type": "code",
   "execution_count": 17,
   "metadata": {},
   "outputs": [
    {
     "data": {
      "image/png": "[encoded data removed]",
      "text/plain": [
       "<Figure size 576x360 with 1 Axes>"
      ]
     },
     "metadata": {
      "needs_background": "light"
     },
     "output_type": "display_data"
    }
   ],
   "source": [
    "plt.figure(figsize=(8, 5))\n",
    "sns.histplot(maxwell, x='compound', color=\"#A67E4E\", bins=10)\n",
    "plt.title(\"Ghislaine Maxwell Sentiment Distribution with VADER\")\n",
    "plt.xlabel(\"Sentiment\")\n",
    "plt.ylabel(\"\")\n",
    "plt.tight_layout()\n",
    "plt.savefig(\"sentiment_maxwell_vader.png\", dpi=300)"
   ]
  },
  {
   "cell_type": "code",
   "execution_count": 30,
   "metadata": {},
   "outputs": [
    {
     "data": {
      "image/png": "[encoded data removed]",
      "text/plain": [
       "<Figure size 720x576 with 4 Axes>"
      ]
     },
     "metadata": {
      "needs_background": "light"
     },
     "output_type": "display_data"
    }
   ],
   "source": [
    "fig, axs = plt.subplots(2, 2, figsize=(10, 8))\n",
    "\n",
    "sns.histplot(data=swift, x=\"blob\", color=\"#7C8C58\", bins=10, ax=axs[0, 0])\n",
    "sns.histplot(data=maxwell, x=\"blob\", color=\"#A67E4E\", bins=10, ax=axs[0, 1])\n",
    "sns.histplot(data=swift, x=\"compound\", color=\"#7C8C58\", bins=10, ax=axs[1, 0])\n",
    "sns.histplot(data=maxwell, x=\"compound\", color=\"#A67E4E\", bins=10, ax=axs[1, 1])\n",
    "\n",
    "plt.title(\"Comparison of Sentiment Distributions\")\n",
    "plt.xlabel(\"Sentiment\")\n",
    "plt.ylabel(\"\")\n",
    "plt.tight_layout()\n",
    "plt.savefig(\"sentiment_all.png\", dpi=300)"
   ]
  },
  {
   "cell_type": "code",
   "execution_count": null,
   "metadata": {},
   "outputs": [],
   "source": []
  }
 ],
 "metadata": {
  "interpreter": {
   "hash": "5629da87f0f0738fb6d7f5b56890b7158ed7c3cd6e2056d12c1193abac81cb87"
  },
  "kernelspec": {
   "display_name": "Python 3.9.7 64-bit ('NLP': conda)",
   "language": "python",
   "name": "python3"
  },
  "language_info": {
   "codemirror_mode": {
    "name": "ipython",
    "version": 3
   },
   "file_extension": ".py",
   "mimetype": "text/x-python",
   "name": "python",
   "nbconvert_exporter": "python",
   "pygments_lexer": "ipython3",
   "version": "3.9.7"
  },
  "orig_nbformat": 4
 },
 "nbformat": 4,
 "nbformat_minor": 2
}
